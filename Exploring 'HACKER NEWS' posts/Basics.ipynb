{
 "cells": [
  {
   "cell_type": "markdown",
   "metadata": {
    "collapsed": true
   },
   "source": [
    "# just a title"
   ]
  },
  {
   "cell_type": "code",
   "execution_count": 12,
   "metadata": {
    "collapsed": false
   },
   "outputs": [
    {
     "name": "stdout",
     "output_type": "stream",
     "text": [
      "['id,title,url,num_points,num_comments,author,created_at\\n', '12224879,Interactive Dynamic Video,http://www.interactivedynamicvideo.com/,386,52,ne0phyte,8/4/2016 11:52\\n', '10975351,How to Use Open Source and Shut the Fuck Up at the Same Time,http://hueniverse.com/2016/01/26/how-to-use-open-source-and-shut-the-fuck-up-at-the-same-time/,39,10,josep2,1/26/2016 19:30\\n', \"11964716,Florida DJs May Face Felony for April Fools' Water Joke,http://www.thewire.com/entertainment/2013/04/florida-djs-april-fools-water-joke/63798/,2,1,vezycash,6/23/2016 22:20\\n\", '11919867,Technology ventures: From Idea to Enterprise,https://www.amazon.com/Technology-Ventures-Enterprise-Thomas-Byers/dp/0073523429,3,1,hswarna,6/17/2016 0:01\\n']\n"
     ]
    }
   ],
   "source": [
    "from csv import reader\n",
    "opened=open('hacker_news.csv')\n",
    "hn=list(opened)\n",
    "print(hn[0:5])"
   ]
  },
  {
   "cell_type": "code",
   "execution_count": 13,
   "metadata": {
    "collapsed": false
   },
   "outputs": [
    {
     "name": "stdout",
     "output_type": "stream",
     "text": [
      "id,title,url,num_points,num_comments,author,created_at\n",
      "\n"
     ]
    }
   ],
   "source": [
    "headers=hn[0]\n",
    "hn=list(hn[1:])\n",
    "print(headers)"
   ]
  },
  {
   "cell_type": "code",
   "execution_count": 14,
   "metadata": {
    "collapsed": false
   },
   "outputs": [
    {
     "name": "stdout",
     "output_type": "stream",
     "text": [
      "['12224879,Interactive Dynamic Video,http://www.interactivedynamicvideo.com/,386,52,ne0phyte,8/4/2016 11:52\\n', '10975351,How to Use Open Source and Shut the Fuck Up at the Same Time,http://hueniverse.com/2016/01/26/how-to-use-open-source-and-shut-the-fuck-up-at-the-same-time/,39,10,josep2,1/26/2016 19:30\\n', \"11964716,Florida DJs May Face Felony for April Fools' Water Joke,http://www.thewire.com/entertainment/2013/04/florida-djs-april-fools-water-joke/63798/,2,1,vezycash,6/23/2016 22:20\\n\", '11919867,Technology ventures: From Idea to Enterprise,https://www.amazon.com/Technology-Ventures-Enterprise-Thomas-Byers/dp/0073523429,3,1,hswarna,6/17/2016 0:01\\n', '10301696,Note by Note: The Making of Steinway L1037 (2007),http://www.nytimes.com/2007/11/07/movies/07stein.html?_r=0,8,2,walterbell,9/30/2015 4:12\\n']\n"
     ]
    }
   ],
   "source": [
    "print(hn[0:5])\n",
    "# l=hn(0)\n",
    "# print(l[1])\n",
    "# print(hn[0][1])\n",
    "# print(type(hn[0]))\n",
    "# l=hn[0].split(',')\n",
    "# print(l)\n",
    "# print(l[1])"
   ]
  },
  {
   "cell_type": "code",
   "execution_count": 15,
   "metadata": {
    "collapsed": false
   },
   "outputs": [],
   "source": [
    "ask_posts=[]\n",
    "show_posts=[]\n",
    "other_posts=[]\n",
    "for r in hn:\n",
    "    \n",
    "#     print(hn[0][1])\n",
    "#     print(type(hn[0]))\n",
    "    l=r.split(',')\n",
    "#     print(l)\n",
    "#     print(l[1])\n",
    "    \n",
    "    title=l[1]\n",
    "    title=title.lower()\n",
    "    if title.startswith('ask hn'):\n",
    "        ask_posts.append(l)\n",
    "    if title.startswith('show hn'):\n",
    "        show_posts.append(l)\n",
    "    else:\n",
    "        other_posts.append(l)\n"
   ]
  },
  {
   "cell_type": "code",
   "execution_count": 16,
   "metadata": {
    "collapsed": false
   },
   "outputs": [
    {
     "name": "stdout",
     "output_type": "stream",
     "text": [
      "['12224879,Interactive Dynamic Video,http://www.interactivedynamicvideo.com/,386,52,ne0phyte,8/4/2016 11:52\\n', '10975351,How to Use Open Source and Shut the Fuck Up at the Same Time,http://hueniverse.com/2016/01/26/how-to-use-open-source-and-shut-the-fuck-up-at-the-same-time/,39,10,josep2,1/26/2016 19:30\\n', \"11964716,Florida DJs May Face Felony for April Fools' Water Joke,http://www.thewire.com/entertainment/2013/04/florida-djs-april-fools-water-joke/63798/,2,1,vezycash,6/23/2016 22:20\\n\", '11919867,Technology ventures: From Idea to Enterprise,https://www.amazon.com/Technology-Ventures-Enterprise-Thomas-Byers/dp/0073523429,3,1,hswarna,6/17/2016 0:01\\n', '10301696,Note by Note: The Making of Steinway L1037 (2007),http://www.nytimes.com/2007/11/07/movies/07stein.html?_r=0,8,2,walterbell,9/30/2015 4:12\\n']\n"
     ]
    }
   ],
   "source": [
    "print(hn[0:5])"
   ]
  },
  {
   "cell_type": "code",
   "execution_count": 17,
   "metadata": {
    "collapsed": false
   },
   "outputs": [
    {
     "name": "stdout",
     "output_type": "stream",
     "text": [
      "1581\n",
      "967\n",
      "19133\n"
     ]
    }
   ],
   "source": [
    "print(len(ask_posts))\n",
    "print(len(show_posts))\n",
    "print(len(other_posts))"
   ]
  },
  {
   "cell_type": "code",
   "execution_count": 18,
   "metadata": {
    "collapsed": false
   },
   "outputs": [
    {
     "name": "stdout",
     "output_type": "stream",
     "text": [
      "[['12296411', 'Ask HN: How to improve my personal website?', '', '2', '6', 'ahmedbaracat', '8/16/2016 9:55\\n'], ['10610020', 'Ask HN: Am I the only one outraged by Twitter shutting down share counts?', '', '28', '29', 'tkfx', '11/22/2015 13:43\\n'], ['11610310', 'Ask HN: Aby recent changes to CSS that broke mobile?', '', '1', '1', 'polskibus', '5/2/2016 10:14\\n'], ['12210105', 'Ask HN: Looking for Employee #3 How do I do it?', '', '1', '3', 'sph130', '8/2/2016 14:20\\n'], ['10394168', 'Ask HN: Someone offered to buy my browser extension from me. What now?', '', '28', '17', 'roykolak', '10/15/2015 16:38\\n']]\n"
     ]
    }
   ],
   "source": [
    "print(ask_posts[0:5])"
   ]
  },
  {
   "cell_type": "code",
   "execution_count": 19,
   "metadata": {
    "collapsed": false
   },
   "outputs": [
    {
     "name": "stdout",
     "output_type": "stream",
     "text": [
      "14.371283997469956\n"
     ]
    }
   ],
   "source": [
    "total_ask_comments=0\n",
    "for r in ask_posts:\n",
    "    l=int(r[4])\n",
    "    total_ask_comments=total_ask_comments+l\n",
    "avg_ask_comments=total_ask_comments/len(ask_posts)\n",
    "print(avg_ask_comments)"
   ]
  },
  {
   "cell_type": "code",
   "execution_count": 20,
   "metadata": {
    "collapsed": false
   },
   "outputs": [
    {
     "name": "stdout",
     "output_type": "stream",
     "text": [
      "10.415718717683557\n"
     ]
    }
   ],
   "source": [
    "total_show_comments=0\n",
    "for r in show_posts:\n",
    "    l=int(r[4])\n",
    "    total_show_comments=total_show_comments+l\n",
    "avg_show_comments=total_show_comments/len(show_posts)\n",
    "print(avg_show_comments)"
   ]
  },
  {
   "cell_type": "markdown",
   "metadata": {},
   "source": [
    "### you can see 'ask post' have more avg. comments"
   ]
  },
  {
   "cell_type": "code",
   "execution_count": 26,
   "metadata": {
    "collapsed": false
   },
   "outputs": [
    {
     "name": "stdout",
     "output_type": "stream",
     "text": [
      "{0: 54, 1: 51, 2: 55, 3: 50, 4: 38, 5: 40, 6: 36, 7: 34, 8: 44, 9: 42, 10: 55, 11: 53, 12: 63, 13: 77, 14: 96, 15: 106, 16: 98, 17: 88, 18: 97, 19: 105, 20: 74, 21: 97, 22: 65, 23: 63}\n",
      "{0: 446, 1: 494, 2: 1363, 3: 399, 4: 281, 5: 314, 6: 344, 7: 267, 8: 433, 9: 245, 10: 764, 11: 623, 12: 635, 13: 1208, 14: 1347, 15: 4222, 16: 1746, 17: 1053, 18: 1353, 19: 1172, 20: 1694, 21: 1378, 22: 409, 23: 531}\n"
     ]
    }
   ],
   "source": [
    "#date_1_str = \"December 24, 1984\"\n",
    "#date_1_dt = dt.datetime.strptime(date_1_str, \"%B %d, %Y\")\n",
    "\n",
    "import datetime as dt\n",
    "result_list=[]\n",
    "#print(ask_posts[0])\n",
    "for r in ask_posts:\n",
    "    result_list.append(r[6])\n",
    "    \n",
    "    result_list.append(int(r[4]))\n",
    "counts_by_hour={}\n",
    "comments_by_hour={}\n",
    "a=[]\n",
    "for i in range(0,len(result_list),2):\n",
    "    date_1_dt=dt.datetime.strptime(result_list[i], \"%m/%d/%Y %H:%M\\n\")\n",
    "    comment=result_list[i+1]\n",
    "    comment=int(comment)\n",
    "    date_1_dt=str(date_1_dt)\n",
    "    \n",
    "    date_1_dt=date_1_dt[11:13]\n",
    "    date_1_dt=int(date_1_dt)\n",
    "    \n",
    "    if date_1_dt not in counts_by_hour:\n",
    "        counts_by_hour[date_1_dt]=1\n",
    "        \n",
    "    else:\n",
    "        counts_by_hour[date_1_dt]+=1\n",
    "    if date_1_dt not in comments_by_hour:\n",
    "        comments_by_hour[date_1_dt]=comment\n",
    "        \n",
    "    else:\n",
    "        comments_by_hour[date_1_dt]+=comment\n",
    "        \n",
    "    \n",
    "print(counts_by_hour)\n",
    "print(comments_by_hour)\n",
    "    \n",
    "# counts_by_hour={}\n",
    "# comments_by_hour={}\n",
    "# print(result_list[0:5])\n",
    "# date_1_dt=dt.datetime.strptime(result_list[0], \"%m/%d/%Y %H:%M\\n\")\n",
    "# print(date_1_dt)\n",
    "# print(type(date_1_dt))\n",
    "# date_1_dt=str(date_1_dt)\n",
    "# print(type(date_1_dt))\n",
    "# hour=date_1_dt[11:13]\n"
   ]
  },
  {
   "cell_type": "markdown",
   "metadata": {
    "collapsed": true
   },
   "source": [
    "#### counts_by_hour: contains the number of ask posts created during each hour of the day. comments_by_hour: contains the corresponding number of comments ask posts created at each hour received."
   ]
  },
  {
   "cell_type": "code",
   "execution_count": 39,
   "metadata": {
    "collapsed": false
   },
   "outputs": [
    {
     "name": "stdout",
     "output_type": "stream",
     "text": [
      "[[0, 8.25925925925926], [1, 9.686274509803921], [2, 24.78181818181818], [3, 7.98], [4, 7.394736842105263], [5, 7.85], [6, 9.555555555555555], [7, 7.852941176470588], [8, 9.840909090909092], [9, 5.833333333333333], [10, 13.89090909090909], [11, 11.754716981132075], [12, 10.079365079365079], [13, 15.688311688311689], [14, 14.03125], [15, 39.83018867924528], [16, 17.816326530612244], [17, 11.965909090909092], [18, 13.948453608247423], [19, 11.161904761904761], [20, 22.89189189189189], [21, 14.206185567010309], [22, 6.292307692307692], [23, 8.428571428571429]]\n"
     ]
    }
   ],
   "source": [
    "# helper code:Suppose we wanted to multiply each of the values\n",
    "#     by ten and return\n",
    "# the results as a list of lists. We can use the following code:\n",
    "\n",
    "# sample_dict = {\n",
    "#                 'apple': 2, \n",
    "#                 'banana': 4, \n",
    "#                 'orange': 6\n",
    "#                }\n",
    "# fruits = []\n",
    "\n",
    "# for fruit in sample_dict:\n",
    "#     fruits.append([fruit, 10*sample_dict[fruit]])\n",
    "avg_by_hour=[]\n",
    "i=0\n",
    "for r in comments_by_hour:\n",
    "    \n",
    "    avg_by_hour.append([r, comments_by_hour[r]/counts_by_hour[i]])\n",
    "    i+=1\n",
    "print(avg_by_hour)\n"
   ]
  },
  {
   "cell_type": "code",
   "execution_count": 41,
   "metadata": {
    "collapsed": false
   },
   "outputs": [
    {
     "name": "stdout",
     "output_type": "stream",
     "text": [
      "[[8.25925925925926, 0], [9.686274509803921, 1], [24.78181818181818, 2], [7.98, 3], [7.394736842105263, 4], [7.85, 5], [9.555555555555555, 6], [7.852941176470588, 7], [9.840909090909092, 8], [5.833333333333333, 9], [13.89090909090909, 10], [11.754716981132075, 11], [10.079365079365079, 12], [15.688311688311689, 13], [14.03125, 14], [39.83018867924528, 15], [17.816326530612244, 16], [11.965909090909092, 17], [13.948453608247423, 18], [11.161904761904761, 19], [22.89189189189189, 20], [14.206185567010309, 21], [6.292307692307692, 22], [8.428571428571429, 23]]\n"
     ]
    }
   ],
   "source": [
    "for i in range(len(avg_by_hour)):\n",
    "    avg_by_hour[i][0],avg_by_hour[i][1]=avg_by_hour[i][1],avg_by_hour[i][0]\n",
    "print(avg_by_hour)"
   ]
  },
  {
   "cell_type": "code",
   "execution_count": 49,
   "metadata": {
    "collapsed": false
   },
   "outputs": [
    {
     "name": "stdout",
     "output_type": "stream",
     "text": [
      "[[39.83018867924528, 15], [24.78181818181818, 2], [22.89189189189189, 20], [17.816326530612244, 16], [15.688311688311689, 13], [14.206185567010309, 21], [14.03125, 14], [13.948453608247423, 18], [13.89090909090909, 10], [11.965909090909092, 17], [11.754716981132075, 11], [11.161904761904761, 19], [10.079365079365079, 12], [9.840909090909092, 8], [9.686274509803921, 1], [9.555555555555555, 6], [8.428571428571429, 23], [8.25925925925926, 0], [7.98, 3], [7.852941176470588, 7], [7.85, 5], [7.394736842105263, 4], [6.292307692307692, 22], [5.833333333333333, 9]]\n"
     ]
    }
   ],
   "source": [
    "avg_by_hour=sorted(avg_by_hour,reverse=True)\n",
    "print(avg_by_hour)"
   ]
  },
  {
   "cell_type": "code",
   "execution_count": 50,
   "metadata": {
    "collapsed": false
   },
   "outputs": [
    {
     "name": "stdout",
     "output_type": "stream",
     "text": [
      "15:00: 39.83018867924528 average comments per post\n",
      "2:00: 24.78181818181818 average comments per post\n",
      "20:00: 22.89189189189189 average comments per post\n",
      "16:00: 17.816326530612244 average comments per post\n",
      "13:00: 15.688311688311689 average comments per post\n"
     ]
    }
   ],
   "source": [
    "for i in range(5):\n",
    "    print(\"{}:00: {} average comments per post\".format(avg_by_hour[i][1],avg_by_hour[i][0]))"
   ]
  },
  {
   "cell_type": "markdown",
   "metadata": {},
   "source": [
    "# so one should create a post at 15:00 to get maximum support\n",
    "\n",
    "# what we did is:\n"
   ]
  }
 ],
 "metadata": {
  "kernelspec": {
   "display_name": "Python 3",
   "language": "python",
   "name": "python3"
  },
  "language_info": {
   "codemirror_mode": {
    "name": "ipython",
    "version": 3
   },
   "file_extension": ".py",
   "mimetype": "text/x-python",
   "name": "python",
   "nbconvert_exporter": "python",
   "pygments_lexer": "ipython3",
   "version": "3.4.3"
  }
 },
 "nbformat": 4,
 "nbformat_minor": 2
}
